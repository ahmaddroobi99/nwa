{
 "cells": [
  {
   "cell_type": "markdown",
   "id": "486c1c10-48d4-49eb-8238-74ff3ee80084",
   "metadata": {},
   "source": [
    "# NWA suntans: make movie"
   ]
  },
  {
   "cell_type": "code",
   "execution_count": 1,
   "id": "e70016fb-cf5f-4e09-8fa2-a6b43a3c74d5",
   "metadata": {},
   "outputs": [
    {
     "name": "stderr",
     "output_type": "stream",
     "text": [
      "ERROR 1: PROJ: proj_create_from_database: Open of /home1/datahome/aponte/.miniconda3/envs/equinox/share/proj failed\n"
     ]
    },
    {
     "name": "stdout",
     "output_type": "stream",
     "text": [
      "Warning: could not import pyTMD\n"
     ]
    }
   ],
   "source": [
    "import os\n",
    "\n",
    "import numpy as np\n",
    "import pandas as pd\n",
    "import xarray as xr\n",
    "\n",
    "%matplotlib inline\n",
    "from matplotlib import pyplot as plt\n",
    "\n",
    "import pynsitu as pin\n",
    "crs = pin.maps.crs\n",
    "\n",
    "import nwatools as nwa"
   ]
  },
  {
   "cell_type": "code",
   "execution_count": 2,
   "id": "251f6eba-99c0-4000-9fb1-8068d46d1923",
   "metadata": {},
   "outputs": [],
   "source": [
    "if True:\n",
    "    from dask.distributed import Client, LocalCluster\n",
    "    from dask_jobqueue import PBSCluster\n",
    "    cluster = PBSCluster()\n",
    "    #cluster = PBSCluster(cores=28, processes=14)\n",
    "    #cluster = PBSCluster(cores=14, processes=7)\n",
    "    w = cluster.scale(jobs=10)\n",
    "    #\n",
    "    client = Client(cluster)\n",
    "    client\n",
    "else:\n",
    "    from dask.distributed import Client, LocalCluster\n",
    "    #\n",
    "    cluster = LocalCluster()\n",
    "    client = Client(cluster)\n",
    "    client"
   ]
  },
  {
   "cell_type": "markdown",
   "id": "d0a6ccd0-de61-4c46-b88b-e33eb59495d9",
   "metadata": {},
   "source": [
    "---\n",
    "## load data"
   ]
  },
  {
   "cell_type": "code",
   "execution_count": 3,
   "id": "45a8d0db-0c33-4d37-8957-c56baf496e73",
   "metadata": {},
   "outputs": [],
   "source": [
    "ds, grd = nwa.load_surf()"
   ]
  },
  {
   "cell_type": "code",
   "execution_count": 4,
   "id": "9c26729b-bcf5-4eb2-99c2-e5b329b2e73d",
   "metadata": {},
   "outputs": [],
   "source": [
    "# add deformations\n",
    "zarr = os.path.join(nwa.suntans_dir, f\"suntans_2km_surf_gradients\")\n",
    "dsd = xr.open_zarr(zarr)\n",
    "\n",
    "dsd[\"vorticity\"] = (dsd[\"dvcdx\"] - dsd[\"ducdy\"])/pin.geo.coriolis(dsd.yv)\n",
    "\n",
    "#dsd[\"divergence\"] = dsd[\"ducdx\"] + dsd[\"dvcdy\"]\n",
    "#dsd[\"strain_normal\"] = dsd[\"ducdx\"] - dsd[\"dvcdy\"]\n",
    "#dsd[\"strain_shear\"] = dsd[\"dvcdx\"] + dsd[\"ducdy\"]\n",
    "\n",
    "ds = dsd[[\"vorticity\"]]"
   ]
  },
  {
   "cell_type": "code",
   "execution_count": 5,
   "id": "9771bb09-cd4b-4ed9-bfff-b91e3f588f1d",
   "metadata": {},
   "outputs": [],
   "source": [
    "ds = ds.persist()"
   ]
  },
  {
   "cell_type": "code",
   "execution_count": 6,
   "id": "3e9f070e-0803-4f7d-b434-85407d01fc1c",
   "metadata": {},
   "outputs": [],
   "source": [
    "# movie parameters\n",
    "v = \"vorticity\"\n",
    "cmap = 'RdBu_r'\n",
    "\n",
    "#clims = (-1,1)\n",
    "#zoom = \"large\"\n",
    "\n",
    "clims = (-2,2)\n",
    "zoom = \"cp\"\n",
    "\n",
    "#time = dsd[\"time\"][:100]\n",
    "time = dsd[\"time\"]\n",
    "\n",
    "fig_dir = \"/home1/scratch/aponte/figs\""
   ]
  },
  {
   "cell_type": "code",
   "execution_count": 7,
   "id": "d942aa5b-d7aa-412e-9c64-9a1d7fcf76bd",
   "metadata": {},
   "outputs": [],
   "source": [
    "from dask import delayed\n",
    "import threading\n",
    "from tqdm import tqdm"
   ]
  },
  {
   "cell_type": "code",
   "execution_count": 8,
   "id": "4b360600-61d3-472c-bb3c-34cf2f3424b3",
   "metadata": {},
   "outputs": [],
   "source": [
    "def print_figure(da, i):\n",
    "    \n",
    "    MPL_LOCK = threading.Lock()\n",
    "    with MPL_LOCK:\n",
    "        \n",
    "        plt.switch_backend('agg')\n",
    "        \n",
    "        fig, ax = nwa.map_init(zoom, bathy=(grd, da))\n",
    "        _, _, poly, cbar = grd.suntans.plotcelldata(da, \n",
    "                                                    vmin=clims[0], vmax=clims[1], \n",
    "                                                    cmap=cmap, \n",
    "                                                    crs=crs,\n",
    "                                                   )\n",
    "\n",
    "        t = str(da.time.dt.strftime('%Y/%m/%d %Hh').values)\n",
    "        ax.set_title(t)\n",
    "        \n",
    "        fig_file = os.path.join(fig_dir, f\"{i:05d}.png\")\n",
    "        fig.savefig(fig_file, dpi=150)\n",
    "        plt.close(fig)\n",
    "        \n",
    "print_figure_delayed = delayed(print_figure)"
   ]
  },
  {
   "cell_type": "code",
   "execution_count": 9,
   "id": "3dd2e139-8200-47fe-a6ea-36deb0d9f308",
   "metadata": {},
   "outputs": [
    {
     "name": "stderr",
     "output_type": "stream",
     "text": [
      "100%|██████████| 126/126 [1:33:03<00:00, 44.31s/it]\n"
     ]
    }
   ],
   "source": [
    "n_t = ds.time.size\n",
    "n_workers = len(client.scheduler_info()['workers'])\n",
    "\n",
    "for i in tqdm(range(0, n_t, n_workers)):\n",
    "    values = [print_figure_delayed(ds[v].isel(time=j), j) \n",
    "              for j in range(i, min(i+n_workers, n_t))]    \n",
    "    futures = client.compute(values)\n",
    "    results = client.gather(futures)"
   ]
  },
  {
   "cell_type": "code",
   "execution_count": null,
   "id": "775e3344-b85a-471c-8ca9-fec8fcc8ac94",
   "metadata": {},
   "outputs": [],
   "source": []
  },
  {
   "cell_type": "markdown",
   "id": "e6845d6d-5c54-495f-80ab-997b59f929da",
   "metadata": {},
   "source": [
    "---"
   ]
  },
  {
   "cell_type": "code",
   "execution_count": null,
   "id": "870388ff-7205-44cb-bc36-9251b6b1954a",
   "metadata": {},
   "outputs": [],
   "source": [
    "cluster.close()"
   ]
  },
  {
   "cell_type": "code",
   "execution_count": null,
   "id": "69b1b641-88d7-409f-a8b5-1d79a26ff9dc",
   "metadata": {},
   "outputs": [],
   "source": []
  }
 ],
 "metadata": {
  "kernelspec": {
   "display_name": "Python 3 (ipykernel)",
   "language": "python",
   "name": "python3"
  },
  "language_info": {
   "codemirror_mode": {
    "name": "ipython",
    "version": 3
   },
   "file_extension": ".py",
   "mimetype": "text/x-python",
   "name": "python",
   "nbconvert_exporter": "python",
   "pygments_lexer": "ipython3",
   "version": "3.9.15"
  }
 },
 "nbformat": 4,
 "nbformat_minor": 5
}
